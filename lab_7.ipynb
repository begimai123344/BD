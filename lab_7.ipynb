{
 "cells": [
  {
   "cell_type": "markdown",
   "metadata": {},
   "source": [
    "# Лабораторная работа №7\n",
    "\n",
    "Нарматова Бегимай AIN-2-21"
   ]
  },
  {
   "cell_type": "markdown",
   "metadata": {},
   "source": [
    "1)\tИзучите материал лекции 12, проделайте пример, описанный в ходе работы."
   ]
  },
  {
   "cell_type": "code",
   "execution_count": 1,
   "metadata": {},
   "outputs": [
    {
     "name": "stdout",
     "output_type": "stream",
     "text": [
      "<class 'list'>\n",
      "18093\n"
     ]
    },
    {
     "data": {
      "text/plain": [
       "b\"this film is really bad....... no i mean really really bad. Tony Scott is a terrible director. out of all the films he has made i only like enemy of the state, besides that he is one of the worse directors of all time. what appalled me the most is Richard Kelly (director of Donnie Darko) did the screenplay to this. now Richard Kelly is a genius in my eyes but to be involved in this makes hope he has learnt his lesson.<br /><br />now i love Mickey Rourke's new roles but i cant even like him in this because of the terrible story and look of it. don't get me wrong i still love Mickey Rourke but he has made a few accidence's in his time and this is one of them. i don't know what to say about Keira knightly, i think she's a little too overrated. i just cant feel for her in films.<br /><br />all in all this film is bad. thats it....... 1/10.......j.d Seaton\""
      ]
     },
     "execution_count": 1,
     "metadata": {},
     "output_type": "execute_result"
    }
   ],
   "source": [
    "from sklearn.datasets import load_files\n",
    "reviews_train = load_files(\"aclImdb/train/\")\n",
    "\n",
    "text_train, y_train = reviews_train.data, reviews_train.target\n",
    "print(type(text_train))\n",
    "print(len(text_train))\n",
    "text_train[1]"
   ]
  },
  {
   "cell_type": "code",
   "execution_count": 2,
   "metadata": {},
   "outputs": [
    {
     "data": {
      "text/plain": [
       "b\"this film is really bad....... no i mean really really bad. Tony Scott is a terrible director. out of all the films he has made i only like enemy of the state, besides that he is one of the worse directors of all time. what appalled me the most is Richard Kelly (director of Donnie Darko) did the screenplay to this. now Richard Kelly is a genius in my eyes but to be involved in this makes hope he has learnt his lesson.  now i love Mickey Rourke's new roles but i cant even like him in this because of the terrible story and look of it. don't get me wrong i still love Mickey Rourke but he has made a few accidence's in his time and this is one of them. i don't know what to say about Keira knightly, i think she's a little too overrated. i just cant feel for her in films.  all in all this film is bad. thats it....... 1/10.......j.d Seaton\""
      ]
     },
     "execution_count": 2,
     "metadata": {},
     "output_type": "execute_result"
    }
   ],
   "source": [
    "text_train = [doc.replace(b\"<br />\", b\" \") for doc in text_train]\n",
    "text_train[1]"
   ]
  },
  {
   "cell_type": "code",
   "execution_count": 3,
   "metadata": {},
   "outputs": [
    {
     "data": {
      "text/plain": [
       "array([0, 1])"
      ]
     },
     "execution_count": 3,
     "metadata": {},
     "output_type": "execute_result"
    }
   ],
   "source": [
    "import numpy as np\n",
    "np.unique(y_train)"
   ]
  },
  {
   "cell_type": "code",
   "execution_count": 4,
   "metadata": {},
   "outputs": [
    {
     "data": {
      "text/plain": [
       "array([12500,  5593], dtype=int64)"
      ]
     },
     "execution_count": 4,
     "metadata": {},
     "output_type": "execute_result"
    }
   ],
   "source": [
    "np.bincount(y_train)"
   ]
  },
  {
   "cell_type": "code",
   "execution_count": 6,
   "metadata": {},
   "outputs": [
    {
     "name": "stdout",
     "output_type": "stream",
     "text": [
      "25000\n"
     ]
    },
    {
     "data": {
      "text/plain": [
       "array([12500, 12500], dtype=int64)"
      ]
     },
     "execution_count": 6,
     "metadata": {},
     "output_type": "execute_result"
    }
   ],
   "source": [
    "reviews_test = load_files(\"aclImdb/test/\")\n",
    "text_test, y_test = reviews_test.data, reviews_test.target\n",
    "print(len(text_test))\n",
    "text_test = [doc.replace(b\"<br />\", b\" \") for doc in text_test]\n",
    "np.bincount(y_test)"
   ]
  },
  {
   "cell_type": "markdown",
   "metadata": {},
   "source": [
    "2)\tСоздайте свой «мешок слов», например, набор из 20-25 отзывов о чем-либо, напишите краткое пояснение к данным."
   ]
  },
  {
   "cell_type": "code",
   "execution_count": 77,
   "metadata": {},
   "outputs": [
    {
     "name": "stdout",
     "output_type": "stream",
     "text": [
      "Словарь слов: ['актеров' 'актерская' 'актеры' 'безумно' 'были' 'вопросы' 'восхищение'\n",
      " 'впечатления' 'впечатлила' 'впечатлило' 'время' 'всем' 'вызывает'\n",
      " 'высоте' 'высшем' 'глубиной' 'горьковатый' 'диалоги' 'желать'\n",
      " 'задуматься' 'заставил' 'захватывает' 'захватывающим' 'зацепил' 'игра'\n",
      " 'иногда' 'интересный' 'интересным' 'интригующий' 'исполнение' 'линией'\n",
      " 'логика' 'лучшего' 'минут' 'мог' 'моменты' 'монтаж' 'на' 'не'\n",
      " 'невероятно' 'невыразительно' 'некоторые' 'немного' 'неожиданным'\n",
      " 'неплохой' 'непредсказуемый' 'неубедительные' 'никак' 'но' 'один'\n",
      " 'оказался' 'оставил' 'оставляет' 'отличная' 'отличный' 'оторваться'\n",
      " 'отрываясь' 'первых' 'плоский' 'полное' 'понравилось' 'понравился'\n",
      " 'поразил' 'потрясающий' 'предсказуем' 'привкус' 'присест' 'просмотр'\n",
      " 'просмотру' 'просто' 'развитием' 'разноречивые' 'разочарование'\n",
      " 'раскрыты' 'режиссура' 'рекомендую' 'ролей' 'своей' 'сильная' 'скучно'\n",
      " 'скучный' 'слабым' 'смотрел' 'событий' 'стоит' 'сценарий' 'сюжет'\n",
      " 'сюжетной' 'теряется' 'тратить' 'ужасен' 'уровне' 'фильм' 'хотя' 'целом'\n",
      " 'этот']\n",
      "Матрица признаков (мешок слов):\n",
      " [[0 0 0 ... 0 0 0]\n",
      " [0 1 0 ... 0 0 0]\n",
      " [0 0 0 ... 0 0 0]\n",
      " ...\n",
      " [0 0 0 ... 0 0 0]\n",
      " [0 0 0 ... 0 0 0]\n",
      " [1 0 0 ... 0 0 0]]\n"
     ]
    }
   ],
   "source": [
    "from sklearn.feature_extraction.text import CountVectorizer\n",
    "\n",
    "# Примеры отзывов \n",
    "reviews = [\n",
    "    \"Отличный фильм, понравилось, рекомендую\",\n",
    "    \"Сюжет неплохой, но актерская игра не впечатлила\",\n",
    "    \"Фильм ужасен, не стоит тратить время\",\n",
    "    \"Фильм поразил своей глубиной и сюжетной линией, рекомендую всем\",\n",
    "    \"Актерская игра на высшем уровне, сюжет захватывает с первых минут\",\n",
    "    \"Безумно скучный фильм, не стоит тратить время на просмотр\",\n",
    "    \"Понравилось исполнение ролей, но сюжет оставляет желать лучшего\",\n",
    "    \"Отличный фильм, смотрел не отрываясь\",\n",
    "    \"Фильм оставил разноречивые впечатления, но в целом понравился\",\n",
    "    \"Отличная игра актеров, сюжет вызывает восхищение\",\n",
    "    \"Сюжет просто потрясающий, рекомендую к просмотру всем\",\n",
    "    \"Полное разочарование, не стоит тратить время на этот фильм\",\n",
    "    \"Фильм оказался невероятно интересным и захватывающим\",\n",
    "    \"Смотрел в один присест, не мог оторваться\",\n",
    "    \"Сюжет заставил задуматься, актеры на высоте\",\n",
    "    \"Плоский сюжет и неубедительные диалоги, не впечатлило\",\n",
    "    \"Интригующий фильм с неожиданным развитием событий\",\n",
    "    \"Отличный сюжет, монтаж и сценарий на высоте\",\n",
    "    \"Отличная режиссура и игра актеров, но сюжет немного предсказуем\",\n",
    "    \"Фильм никак не зацепил, скучно и невыразительно\",\n",
    "    \"Сюжет вызывает вопросы, но в целом интересный фильм\",\n",
    "    \"Интересный сюжет, хотя и были моменты неубедительные\",\n",
    "    \"Сюжет непредсказуемый, но иногда теряется логика\",\n",
    "    \"Фильм оставил горьковатый привкус, не раскрыты некоторые моменты\",\n",
    "    \"Сильная игра актеров, но сюжет оказался слабым\",  \n",
    "]\n",
    "\n",
    "# Инициализация CountVectorizer для создания «мешка слов»\n",
    "vectorizer = CountVectorizer()\n",
    "\n",
    "# Создание «мешка слов»\n",
    "X = vectorizer.fit_transform(reviews)\n",
    "\n",
    "# Получение списка слов\n",
    "feature_names = vectorizer.get_feature_names_out()\n",
    "print(\"Словарь слов:\", feature_names)\n",
    "\n",
    "# Вывод матрицы признаков\n",
    "print(\"Матрица признаков (мешок слов):\\n\", X.toarray())\n"
   ]
  },
  {
   "cell_type": "markdown",
   "metadata": {},
   "source": [
    "3)\tСоздайте словарь стоп-слов, примените стоп-слова к своему «мешку слов»"
   ]
  },
  {
   "cell_type": "code",
   "execution_count": 78,
   "metadata": {},
   "outputs": [
    {
     "name": "stderr",
     "output_type": "stream",
     "text": [
      "[nltk_data] Downloading package stopwords to\n",
      "[nltk_data]     C:\\Users\\User\\AppData\\Roaming\\nltk_data...\n",
      "[nltk_data]   Package stopwords is already up-to-date!\n"
     ]
    },
    {
     "data": {
      "text/plain": [
       "True"
      ]
     },
     "execution_count": 78,
     "metadata": {},
     "output_type": "execute_result"
    }
   ],
   "source": [
    "import nltk\n",
    "nltk.download('stopwords')\n"
   ]
  },
  {
   "cell_type": "code",
   "execution_count": 79,
   "metadata": {},
   "outputs": [
    {
     "name": "stdout",
     "output_type": "stream",
     "text": [
      "Словарь слов после удаления стоп-слов: ['актеров' 'актерская' 'актеры' 'безумно' 'вопросы' 'восхищение'\n",
      " 'впечатления' 'впечатлила' 'впечатлило' 'время' 'всем' 'вызывает'\n",
      " 'высоте' 'высшем' 'глубиной' 'горьковатый' 'диалоги' 'желать'\n",
      " 'задуматься' 'заставил' 'захватывает' 'захватывающим' 'зацепил' 'игра'\n",
      " 'интересный' 'интересным' 'интригующий' 'исполнение' 'линией' 'логика'\n",
      " 'лучшего' 'минут' 'мог' 'моменты' 'монтаж' 'невероятно' 'невыразительно'\n",
      " 'некоторые' 'немного' 'неожиданным' 'неплохой' 'непредсказуемый'\n",
      " 'неубедительные' 'никак' 'оказался' 'оставил' 'оставляет' 'отличная'\n",
      " 'отличный' 'оторваться' 'отрываясь' 'первых' 'плоский' 'полное'\n",
      " 'понравилось' 'понравился' 'поразил' 'потрясающий' 'предсказуем'\n",
      " 'привкус' 'присест' 'просмотр' 'просмотру' 'просто' 'развитием'\n",
      " 'разноречивые' 'разочарование' 'раскрыты' 'режиссура' 'рекомендую'\n",
      " 'ролей' 'своей' 'сильная' 'скучно' 'скучный' 'слабым' 'смотрел' 'событий'\n",
      " 'стоит' 'сценарий' 'сюжет' 'сюжетной' 'теряется' 'тратить' 'ужасен'\n",
      " 'уровне' 'фильм' 'хотя' 'целом']\n"
     ]
    }
   ],
   "source": [
    "from nltk.corpus import stopwords\n",
    "\n",
    "# Загрузка списка стоп-слов \n",
    "stop_words = set(stopwords.words('russian'))\n",
    "\n",
    "# Применение стоп-слов к вашему «мешку слов»\n",
    "vectorizer = CountVectorizer(stop_words=list(stopwords.words('russian')))\n",
    "X = vectorizer.fit_transform(reviews)\n",
    "\n",
    "# Получение списка слов после применения стоп-слов\n",
    "feature_names = vectorizer.get_feature_names_out()\n",
    "print(\"Словарь слов после удаления стоп-слов:\", feature_names)\n"
   ]
  },
  {
   "cell_type": "markdown",
   "metadata": {},
   "source": [
    "4)\tМасштабируйте данные с помощью tf-idf"
   ]
  },
  {
   "cell_type": "code",
   "execution_count": 80,
   "metadata": {},
   "outputs": [
    {
     "name": "stdout",
     "output_type": "stream",
     "text": [
      "TF-IDF признаки:\n",
      " [[0.         0.         0.         ... 0.31256341 0.         0.        ]\n",
      " [0.         0.47574731 0.         ... 0.         0.         0.        ]\n",
      " [0.         0.         0.         ... 0.26665437 0.         0.        ]\n",
      " ...\n",
      " [0.         0.         0.         ... 0.         0.         0.        ]\n",
      " [0.         0.         0.         ... 0.19726887 0.         0.        ]\n",
      " [0.39690839 0.         0.         ... 0.         0.         0.        ]]\n"
     ]
    }
   ],
   "source": [
    "from sklearn.feature_extraction.text import TfidfVectorizer\n",
    "\n",
    "# Создание объекта TfidfVectorizer\n",
    "tfidf_vectorizer = TfidfVectorizer(stop_words=list(stopwords.words('russian')))\n",
    "\n",
    "# Преобразование текстовых данных в матрицу TF-IDF признаков\n",
    "X_tfidf = tfidf_vectorizer.fit_transform(reviews)\n",
    "\n",
    "# Вывод TF-IDF признаков\n",
    "print(\"TF-IDF признаки:\\n\", X_tfidf.toarray())\n"
   ]
  },
  {
   "cell_type": "markdown",
   "metadata": {},
   "source": [
    "5)\tИсследуйте коэффициенты модели"
   ]
  },
  {
   "cell_type": "code",
   "execution_count": 85,
   "metadata": {},
   "outputs": [
    {
     "name": "stdout",
     "output_type": "stream",
     "text": [
      "Коэффициенты модели: [ 0.8589942  -0.85443174  0.26160968  0.44203539 -0.98024609  0.56551725\n",
      "  0.74627959 -0.38299138 -0.93666643  0.50585551 -0.04198328  0.65233296\n",
      "  1.16259757 -0.39165981 -0.02741683  0.45424639  0.60244226  0.50585551\n",
      " -0.43065247  0.26160968  0.26160968 -0.02741683 -0.85523434 -0.05169371\n",
      "  0.07073297 -0.11394331 -0.36755901 -0.85523434 -0.27606965 -0.43065247\n",
      "  0.45424639 -0.11394331 -0.43065247 -0.02741683  0.21100651 -0.33483372\n",
      " -0.70353224 -0.27568259  0.24633755 -0.85523434 -0.05169371  0.60244226\n",
      "  0.12484966 -0.27606965 -0.93666643 -0.11394331 -0.42043503 -0.05169371\n",
      " -0.59811023  0.21100651 -0.58496919  0.19449129 -0.43065247  0.77205\n",
      "  0.19442791  0.21100651  0.17025226 -0.02741683  0.50585551 -0.37117943\n",
      "  0.30485969 -0.38299138  0.45424639  0.28180222  0.12484966  0.60244226\n",
      "  0.21100651  0.44203539  0.28180222  0.28180222 -0.27606965 -0.38299138\n",
      " -0.37117943  0.60244226  0.12484966  1.21695593 -0.43065247  0.45424639\n",
      "  0.19519448 -0.05169371  0.44203539  0.19519448  0.3378957  -0.27606965\n",
      " -0.04198328 -0.70353224 -0.23223165  0.45424639 -0.11394331 -0.04198328\n",
      " -0.12297245 -0.02741683  0.45071515 -0.98024609  0.161766   -0.37117943]\n",
      "Предсказания на тренировочных данных: [4.49999719 2.00000093 3.50000603 4.99999873 3.00000138 3.99999392\n",
      " 2.49999707 3.99999803 2.99999497 4.99999905 4.50000181 2.99999711\n",
      " 2.00000215 4.00000458 3.49999942 3.9999978  3.00000101 2.50000115\n",
      " 4.00000043 3.50000337 4.00000366 1.99999736 3.00000299 4.50000273\n",
      " 3.49999714]\n"
     ]
    }
   ],
   "source": [
    "from sklearn.linear_model import LinearRegression\n",
    "from sklearn.feature_extraction.text import TfidfVectorizer\n",
    "# Оценка фильмов\n",
    "y_train = [4.5, 2.0, 3.5, 5.0, 3.0, 4.0, 2.5, 4.0, 3.0, 5.0, \n",
    "           4.5, 3.0, 2.0, 4.0, 3.5, 4.0, 3.0, 2.5, 4.0, 3.5, \n",
    "           4.0, 2.0, 3.0, 4.5, 3.5]\n",
    "\n",
    "# Создание модели линейной регрессии\n",
    "model = LinearRegression()\n",
    "\n",
    "# Обучение модели на TF-IDF данных\n",
    "model.fit(X_tfidf, y_train)\n",
    "\n",
    "# Получение предсказаний на тренировочных данных (X_tfidf)\n",
    "predictions = model.predict(X_tfidf)\n",
    "\n",
    "# Получение коэффициентов модели (весов слов)\n",
    "coefficients = model.coef_\n",
    "\n",
    "# Вывод коэффициентов и предсказаний\n",
    "print(\"Коэффициенты модели:\", coefficients)\n",
    "print(\"Предсказания на тренировочных данных:\", predictions)\n"
   ]
  },
  {
   "cell_type": "markdown",
   "metadata": {},
   "source": [
    "6)\tСделайте выводы по работе."
   ]
  },
  {
   "cell_type": "markdown",
   "metadata": {},
   "source": [
    "В ходе работы была выполнена обработка текстовых данных с использованием метода TF-IDF (Term Frequency-Inverse Document Frequency). Этот метод позволяет преобразовать тексты в числовые признаки, учитывая важность слов в документе и в корпусе текстов в целом.\n",
    "\n",
    "Сначала были подготовлены отзывы (reviews) и преобразованы с помощью TF-IDF векторизатора, что позволило представить текстовые данные в виде числовой матрицы.\n",
    "\n",
    "Далее была использована линейная регрессия для обучения модели на этих TF-IDF данных и массиве оценок фильмов (y_train). Однако, стоит отметить, что модель была обучена на тех же данных, на которых она делает предсказания, что не является правильным подходом для оценки реальной производительности модели. В реальности, необходимо разделить данные на тренировочный и тестовый наборы для корректной проверки модели.\n",
    "\n",
    "Также, можно дополнительно исследовать коэффициенты модели (веса слов), чтобы понять, какие слова сильнее всего влияют на предсказания модели.\n",
    "\n",
    "В целом, для улучшения работы необходимо провести более подробный анализ, корректно разделить данные на тренировочный и тестовый наборы, подобрать оптимальные параметры модели и выполнить ее оценку на тестовых данных."
   ]
  }
 ],
 "metadata": {
  "kernelspec": {
   "display_name": "Python 3",
   "language": "python",
   "name": "python3"
  },
  "language_info": {
   "codemirror_mode": {
    "name": "ipython",
    "version": 3
   },
   "file_extension": ".py",
   "mimetype": "text/x-python",
   "name": "python",
   "nbconvert_exporter": "python",
   "pygments_lexer": "ipython3",
   "version": "3.9.7"
  }
 },
 "nbformat": 4,
 "nbformat_minor": 2
}
